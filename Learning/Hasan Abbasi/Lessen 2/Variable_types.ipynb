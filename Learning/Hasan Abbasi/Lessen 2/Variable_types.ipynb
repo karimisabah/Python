{
 "cells": [
  {
   "cell_type": "markdown",
   "metadata": {},
   "source": [
    "# Lessen 2\n",
    "# integer:\n",
    "متغیرهای int: \n",
    "1. عددی هستند\n",
    "2. اعداد صحیح بوده و بخش اعشاری ندارند\n",
    "3. می تواند بین اعداد منفی و صفر و مثبت باشد"
   ]
  },
  {
   "cell_type": "code",
   "execution_count": 17,
   "metadata": {},
   "outputs": [
    {
     "data": {
      "text/plain": [
       "(25, 145, -45, 12)"
      ]
     },
     "execution_count": 17,
     "metadata": {},
     "output_type": "execute_result"
    }
   ],
   "source": [
    "a = 25 \n",
    "b = 145\n",
    "c = -45\n",
    "d = 12 \n",
    "\n",
    "a, b, c, d"
   ]
  },
  {
   "cell_type": "markdown",
   "metadata": {},
   "source": [
    "# float:\n",
    "1. عددی هستند\n",
    "2. عدد اعشاری هستند\n",
    "وقتی یک متغییر \"اینتیجر\" را با \"فلوت\" عملیات ریاضی انجام می دهیم جواب می تواند \"فلوت\" یا \"اینتیجر\" باشد"
   ]
  },
  {
   "cell_type": "code",
   "execution_count": 23,
   "metadata": {},
   "outputs": [
    {
     "name": "stdout",
     "output_type": "stream",
     "text": [
      "170 190 300 0.48 625\n",
      "-0.056257175660160745\n",
      "3.1962571756601608\n",
      "80.0\n",
      "0.48\n"
     ]
    },
    {
     "data": {
      "text/plain": [
       "7.8125"
      ]
     },
     "execution_count": 23,
     "metadata": {},
     "output_type": "execute_result"
    }
   ],
   "source": [
    "omid = 25 \n",
    "ali = 3.2\n",
    "a = 25 \n",
    "b = 145\n",
    "c = -45\n",
    "d = 12 \n",
    "\n",
    "e = a + b  # integer\n",
    "f = b - c  # integer\n",
    "g = a * d  # integer\n",
    "h = d / a  # float\n",
    "i = a ** 2 # intrger\n",
    "\n",
    "pi = 3.14 \n",
    "x = 2.45\n",
    "y = -43.55\n",
    "\n",
    "print (e, f, g, h, i)\n",
    "\n",
    "print (x / y)         # float\n",
    "\n",
    "print (pi - (x / y))  # float\n",
    "\n",
    "print (omid * ali) # intrger\n",
    "print (d / a)      # float\n",
    "omid / ali         # float"
   ]
  },
  {
   "cell_type": "markdown",
   "metadata": {},
   "source": [
    "\n",
    "# strings: \n",
    "1. از کاراکترهای متنی تشکیل شده اند \n",
    "2. از Single Quotes و Double Quotes تشکیل شده است  و در زمان پرینت با single quotes نمایش داده می شود"
   ]
  },
  {
   "cell_type": "code",
   "execution_count": 34,
   "metadata": {},
   "outputs": [
    {
     "data": {
      "text/plain": [
       "('sabah', 'test1245!$^_=')"
      ]
     },
     "execution_count": 34,
     "metadata": {},
     "output_type": "execute_result"
    }
   ],
   "source": [
    "name = \"sabah\"\n",
    "x = 'test1245!$^_=' \n",
    "\n",
    "name, x"
   ]
  },
  {
   "cell_type": "code",
   "execution_count": 4,
   "metadata": {},
   "outputs": [
    {
     "data": {
      "text/plain": [
       "(\"a'b'c\", \"a'b'c\")"
      ]
     },
     "execution_count": 4,
     "metadata": {},
     "output_type": "execute_result"
    }
   ],
   "source": [
    "# نمونه های ار نوشتن کدها:\n",
    "# c = 'a'b'c' falsh غلط است وقتی ما از \"سینگل کوتیشن\" استفاده میکنیم در داخل آن دیگر نمی توانیم از همان کوتیشن استفاده کنیم:\n",
    "\n",
    "s = 'a\\'b\\'c'  #true\n",
    "z = \"a'b'c\"    #true\n",
    "\n",
    "# print\n",
    "s, z\n"
   ]
  },
  {
   "cell_type": "markdown",
   "metadata": {},
   "source": [
    "## 1. len(string):\n",
    "عملگر \"لن\" تعداد حروف را می شمارد و طول کاراکتر متنی را می دهد:\n"
   ]
  },
  {
   "cell_type": "code",
   "execution_count": 6,
   "metadata": {},
   "outputs": [
    {
     "data": {
      "text/plain": [
       "18"
      ]
     },
     "execution_count": 11,
     "metadata": {},
     "output_type": "execute_result"
    }
   ],
   "source": [
    "a = \"Mahdi Karimi Sabah\" \n",
    "len(a)\n"
   ]
  },
  {
   "cell_type": "code",
   "execution_count": null,
   "metadata": {},
   "outputs": [],
   "source": []
  }
 ],
 "metadata": {
  "kernelspec": {
   "display_name": "Python 3",
   "language": "python",
   "name": "python3"
  },
  "language_info": {
   "codemirror_mode": {
    "name": "ipython",
    "version": 3
   },
   "file_extension": ".py",
   "mimetype": "text/x-python",
   "name": "python",
   "nbconvert_exporter": "python",
   "pygments_lexer": "ipython3",
   "version": "3.11.9"
  }
 },
 "nbformat": 4,
 "nbformat_minor": 2
}
