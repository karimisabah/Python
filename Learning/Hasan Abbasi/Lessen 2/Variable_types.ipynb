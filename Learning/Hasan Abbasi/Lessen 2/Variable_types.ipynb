{
 "cells": [
  {
   "cell_type": "markdown",
   "metadata": {},
   "source": [
    "# Lessen 2\n",
    "# integer:\n",
    "متغیرهای int: \n",
    "1. عددی هستند\n",
    "2. اعداد صحیح بوده و بخش اعشاری ندارند\n",
    "3. می تواند بین اعداد منفی و صفر و مثبت باشد"
   ]
  },
  {
   "cell_type": "code",
   "execution_count": 41,
   "metadata": {},
   "outputs": [
    {
     "data": {
      "text/plain": [
       "(25, 145, -45, 12)"
      ]
     },
     "execution_count": 41,
     "metadata": {},
     "output_type": "execute_result"
    }
   ],
   "source": [
    "a = 25 \n",
    "b = 145\n",
    "c = -45\n",
    "d = 12 \n",
    "\n",
    "a, b, c, d"
   ]
  },
  {
   "cell_type": "markdown",
   "metadata": {},
   "source": [
    "# float:\n",
    "1. عددی هستند\n",
    "2. عدد اعشاری هستند\n",
    "وقتی یک متغییر \"اینتیجر\" را با \"فلوت\" عملیات ریاضی انجام می دهیم جواب می تواند \"فلوت\" یا \"اینتیجر\" باشد"
   ]
  },
  {
   "cell_type": "code",
   "execution_count": 42,
   "metadata": {},
   "outputs": [
    {
     "name": "stdout",
     "output_type": "stream",
     "text": [
      "170 190 300 0.48 625\n",
      "-0.056257175660160745\n",
      "3.1962571756601608\n",
      "80.0\n",
      "0.48\n"
     ]
    },
    {
     "data": {
      "text/plain": [
       "7.8125"
      ]
     },
     "execution_count": 42,
     "metadata": {},
     "output_type": "execute_result"
    }
   ],
   "source": [
    "omid = 25 \n",
    "ali = 3.2\n",
    "a = 25 \n",
    "b = 145\n",
    "c = -45\n",
    "d = 12 \n",
    "\n",
    "e = a + b  # integer\n",
    "f = b - c  # integer\n",
    "g = a * d  # integer\n",
    "h = d / a  # float\n",
    "i = a ** 2 # intrger\n",
    "\n",
    "pi = 3.14 \n",
    "x = 2.45\n",
    "y = -43.55\n",
    "\n",
    "print (e, f, g, h, i)\n",
    "\n",
    "print (x / y)         # float\n",
    "\n",
    "print (pi - (x / y))  # float\n",
    "\n",
    "print (omid * ali) # intrger\n",
    "print (d / a)      # float\n",
    "omid / ali         # float"
   ]
  },
  {
   "cell_type": "markdown",
   "metadata": {},
   "source": [
    "\n",
    "# strings: \n",
    "1. از کاراکترهای متنی تشکیل شده اند \n",
    "2. از Single Quotes و Double Quotes تشکیل شده است  و در زمان پرینت با single quotes نمایش داده می شود"
   ]
  },
  {
   "cell_type": "code",
   "execution_count": 43,
   "metadata": {},
   "outputs": [
    {
     "data": {
      "text/plain": [
       "('sabah', 'test1245!$^_=')"
      ]
     },
     "execution_count": 43,
     "metadata": {},
     "output_type": "execute_result"
    }
   ],
   "source": [
    "name = \"sabah\"\n",
    "x = 'test1245!$^_=' \n",
    "\n",
    "name, x"
   ]
  },
  {
   "cell_type": "code",
   "execution_count": 44,
   "metadata": {},
   "outputs": [
    {
     "data": {
      "text/plain": [
       "(\"a'b'c\", \"a'b'c\")"
      ]
     },
     "execution_count": 44,
     "metadata": {},
     "output_type": "execute_result"
    }
   ],
   "source": [
    "# نمونه های ار نوشتن کدها:\n",
    "# c = 'a'b'c' falsh غلط است وقتی ما از \"سینگل کوتیشن\" استفاده میکنیم در داخل آن دیگر نمی توانیم از همان کوتیشن استفاده کنیم:\n",
    "\n",
    "s = 'a\\'b\\'c'  #true\n",
    "z = \"a'b'c\"    #true\n",
    "\n",
    "# print\n",
    "s, z\n"
   ]
  },
  {
   "cell_type": "markdown",
   "metadata": {},
   "source": [
    "## 1. len(string):\n",
    "عملگر \"لن\" تعداد حروف را می شمارد و طول کاراکتر متنی را می دهد:\n"
   ]
  },
  {
   "cell_type": "code",
   "execution_count": 45,
   "metadata": {},
   "outputs": [
    {
     "data": {
      "text/plain": [
       "18"
      ]
     },
     "execution_count": 45,
     "metadata": {},
     "output_type": "execute_result"
    }
   ],
   "source": [
    "a = \"Mahdi Karimi Sabah\" \n",
    "len(a)\n"
   ]
  },
  {
   "cell_type": "markdown",
   "metadata": {},
   "source": [
    "## 2. concatention in (string)\n",
    "در عملگر \"استرینگ\" میتوانیم متن ها و حروف را به هم الحاق کنیم، جمع یا ضرب کنیم"
   ]
  },
  {
   "cell_type": "code",
   "execution_count": 46,
   "metadata": {},
   "outputs": [
    {
     "data": {
      "text/plain": [
       "'Hello ali'"
      ]
     },
     "execution_count": 46,
     "metadata": {},
     "output_type": "execute_result"
    }
   ],
   "source": [
    "a = \"Hello \"\n",
    "b = \"ali\"\n",
    "c = a + b # جمع\n",
    "c"
   ]
  },
  {
   "cell_type": "code",
   "execution_count": 50,
   "metadata": {},
   "outputs": [
    {
     "name": "stdout",
     "output_type": "stream",
     "text": [
      "***** AAA*****\n"
     ]
    }
   ],
   "source": [
    "a = \"*\"\n",
    "b = \"A\"\n",
    "\n",
    "c= (b*3)+d # جمع و ضرب با هم \n",
    "d = a*5    # ضرب\n",
    "\n",
    "print(d, c)\n"
   ]
  },
  {
   "cell_type": "markdown",
   "metadata": {},
   "source": [
    "## 3. upper case (string):\n",
    "تمامی حروف کوچک را به حروف بزرگ تبدیل می کند"
   ]
  },
  {
   "cell_type": "code",
   "execution_count": 52,
   "metadata": {},
   "outputs": [
    {
     "name": "stdout",
     "output_type": "stream",
     "text": [
      "ABCDEFGHL\n"
     ]
    }
   ],
   "source": [
    "a = \"aBcDefGhl\"\n",
    "b = a.upper()\n",
    "\n",
    "print(b)"
   ]
  },
  {
   "cell_type": "markdown",
   "metadata": {},
   "source": [
    "## 4. lower case (string):\n",
    "تمامی حروف کوچک را به بزرگ تبدیل می کند"
   ]
  },
  {
   "cell_type": "code",
   "execution_count": 54,
   "metadata": {},
   "outputs": [
    {
     "name": "stdout",
     "output_type": "stream",
     "text": [
      "abcdefghl\n"
     ]
    }
   ],
   "source": [
    "c = a.lower()\n",
    "\n",
    "print(c)"
   ]
  },
  {
   "cell_type": "markdown",
   "metadata": {},
   "source": [
    "## 5. strip (string):\n",
    "این دستور برای حذف کاراکترهای اضافی از ابتدا و انتهای یک رشته استفاده می‌شود. این تابع به‌صورت پیش‌فرض کاراکترهای فاصله را حذف می‌کند، اما می‌توان آن را برای حذف هر کاراکتر مشخص دیگری نیز به کار برد.\n"
   ]
  },
  {
   "cell_type": "code",
   "execution_count": 55,
   "metadata": {},
   "outputs": [
    {
     "name": "stdout",
     "output_type": "stream",
     "text": [
      "Hello MK\n"
     ]
    }
   ],
   "source": [
    "text = \"   Hello MK   \"\n",
    "result = text.strip() # حذف فاصله\n",
    "\n",
    "print(result)"
   ]
  },
  {
   "cell_type": "code",
   "execution_count": 59,
   "metadata": {},
   "outputs": [
    {
     "name": "stdout",
     "output_type": "stream",
     "text": [
      "Hello Mr. MK\n"
     ]
    }
   ],
   "source": [
    "text2 = \"#$#Hello Mr. MK#$#\"\n",
    "result2 = text2.strip(\"#$#\") # حذف کاراکتر مشخص\n",
    "\n",
    "print(result2)"
   ]
  },
  {
   "cell_type": "markdown",
   "metadata": {},
   "source": [
    "### string formatiing\n",
    "\n",
    "چهار روش نوشتن استرینگ فورمتینگ\n",
    "\n",
    "integer  را نمی توان جمع کرد فقط استرین با استرینگ را می توان الحاق کرد\n"
   ]
  },
  {
   "cell_type": "code",
   "execution_count": 10,
   "metadata": {},
   "outputs": [
    {
     "name": "stdout",
     "output_type": "stream",
     "text": [
      "Hello Mahdi, you are 42 years old?\n",
      "Hello Mahdi, you are 42 years old?\n",
      "Hello Mahdi, you are 42 years old?\n"
     ]
    }
   ],
   "source": [
    "name = \"Mahdi\"\n",
    "age = 42 \n",
    "\n",
    "# print(\"Hello \" + name + \" , you are \" + age + \" yers old?\") Falsh\n",
    "\n",
    "print(\"Hello %s, you are %d years old?\"%(name, age)) # True  %d; int  %s: string  %f: float\n",
    "\n",
    "print(\"Hello {}, you are {} years old?\".format(name, age))\n",
    "\n",
    "print(f\"Hello {name}, you are {age} years old?\") # Good\n",
    "\n"
   ]
  },
  {
   "cell_type": "code",
   "execution_count": null,
   "metadata": {},
   "outputs": [],
   "source": []
  }
 ],
 "metadata": {
  "kernelspec": {
   "display_name": "Python 3",
   "language": "python",
   "name": "python3"
  },
  "language_info": {
   "codemirror_mode": {
    "name": "ipython",
    "version": 3
   },
   "file_extension": ".py",
   "mimetype": "text/x-python",
   "name": "python",
   "nbconvert_exporter": "python",
   "pygments_lexer": "ipython3",
   "version": "3.11.9"
  }
 },
 "nbformat": 4,
 "nbformat_minor": 2
}
