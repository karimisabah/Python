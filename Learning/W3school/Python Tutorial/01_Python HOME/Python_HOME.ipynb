{
 "cells": [
  {
   "cell_type": "markdown",
   "metadata": {},
   "source": [
    "# Python HOME\n",
    "python is a popular programming language.\n",
    "\n",
    "python can be used on a server to create web application.\n"
   ]
  },
  {
   "cell_type": "markdown",
   "metadata": {},
   "source": [
    "## Python Introduction\n",
    "### What is Python?\n",
    "\n",
    "Python is a popular programming language. It was created by Guido van Rossum, and released in 1991.\n",
    "\n",
    "It is used for:\n",
    "\n",
    ". web development (server-side),\n",
    "\n",
    ". software development,\n",
    "\n",
    ". mathematics,\n",
    "\n",
    ". system scripting.\n",
    "\n",
    "\n",
    "### What can Python do?\n",
    ". Python can be used on a server to create web applications.\n",
    "\n",
    ". Python can be used alongside software to create workflows.\n",
    "\n",
    ". Python can connect to database systems. It can also read and modify files.\n",
    "\n",
    ". Python can be used to handle big data and perform complex mathematics.\n",
    "\n",
    ". Python can be used for rapid prototyping, or for production-ready software development.\n",
    "\n",
    "## Why Python?\n",
    ". Python works on different platforms (Windows, Mac, Linux, Raspberry Pi, etc).\n",
    "\n",
    ". Python has a simple syntax similar to the English language.\n",
    "\n",
    ". Python has syntax that allows developers to write programs with fewer lines than some other programming languages.\n",
    "\n",
    ". Python runs on an interpreter system, meaning that code can be executed as soon as it is written. This means that prototyping can be very quick.\n",
    "\n",
    ". Python can be treated in a procedural way, an object-oriented way or a functional way.\n",
    "\n",
    "## Good to know\n",
    ". The most recent major version of Python is Python 3, which we shall be using in this tutorial. However, Python 2, although not being updated with anything other than security updates, is still quite popular.\n",
    "\n",
    ". In this tutorial Python will be written in a text editor. It is possible to write Python in an Integrated Development Environment, such as Thonny, Pycharm, Netbeans or Eclipse which are particularly useful when managing larger collections of Python files.\n",
    "\n",
    "## Python Syntax compared to other programming languages\n",
    ". Python was designed for readability, and has some similarities to the English language with influence from mathematics.\n",
    "\n",
    ". Python uses new lines to complete a command, as opposed to other programming languages which often use semicolons or parentheses.\n",
    "\n",
    ". Python relies on indentation, using whitespace, to define scope; such as the scope of loops, functions and classes. Other programming languages often use curly-brackets for this purpose.\n"
   ]
  },
  {
   "cell_type": "code",
   "execution_count": null,
   "metadata": {},
   "outputs": [],
   "source": [
    "print(\"Hello World!\")"
   ]
  },
  {
   "cell_type": "code",
   "execution_count": 9,
   "metadata": {},
   "outputs": [
    {
     "name": "stdout",
     "output_type": "stream",
     "text": [
      "Hell\n"
     ]
    }
   ],
   "source": [
    "# Example: Reading a file\n",
    "f = open(\"mk.txt\", \"rt\")\n",
    "print(f.read())\n"
   ]
  },
  {
   "cell_type": "code",
   "execution_count": null,
   "metadata": {},
   "outputs": [],
   "source": []
  }
 ],
 "metadata": {
  "kernelspec": {
   "display_name": "Python 3",
   "language": "python",
   "name": "python3"
  },
  "language_info": {
   "codemirror_mode": {
    "name": "ipython",
    "version": 3
   },
   "file_extension": ".py",
   "mimetype": "text/x-python",
   "name": "python",
   "nbconvert_exporter": "python",
   "pygments_lexer": "ipython3",
   "version": "3.11.9"
  }
 },
 "nbformat": 4,
 "nbformat_minor": 2
}
